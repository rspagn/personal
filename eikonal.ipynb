{
 "cells": [
  {
   "cell_type": "code",
   "execution_count": 1,
   "id": "6664150f",
   "metadata": {},
   "outputs": [
    {
     "name": "stdout",
     "output_type": "stream",
     "text": [
      "Requirement already satisfied: pycbc in ./phd/lib/python3.12/site-packages (from -r requirements.txt (line 1)) (2.9.0)\n",
      "Requirement already satisfied: matplotlib in ./phd/lib/python3.12/site-packages (from -r requirements.txt (line 2)) (3.10.6)\n",
      "Requirement already satisfied: numpy in ./phd/lib/python3.12/site-packages (from -r requirements.txt (line 3)) (2.3.3)\n",
      "Requirement already satisfied: scipy in ./phd/lib/python3.12/site-packages (from -r requirements.txt (line 4)) (1.16.2)\n",
      "Requirement already satisfied: gwpy in ./phd/lib/python3.12/site-packages (from -r requirements.txt (line 5)) (3.0.13)\n",
      "Requirement already satisfied: astropy in ./phd/lib/python3.12/site-packages (from -r requirements.txt (line 6)) (7.1.0)\n",
      "Requirement already satisfied: pandas in ./phd/lib/python3.12/site-packages (from -r requirements.txt (line 7)) (2.3.2)\n",
      "Requirement already satisfied: mpmath in ./phd/lib/python3.12/site-packages (from -r requirements.txt (line 8)) (1.3.0)\n",
      "Requirement already satisfied: emcee in ./phd/lib/python3.12/site-packages (from -r requirements.txt (line 9)) (3.1.6)\n",
      "Requirement already satisfied: cython>=0.29 in ./phd/lib/python3.12/site-packages (from pycbc->-r requirements.txt (line 1)) (3.1.4)\n",
      "Requirement already satisfied: mpld3>=0.3 in ./phd/lib/python3.12/site-packages (from pycbc->-r requirements.txt (line 1)) (0.5.11)\n",
      "Requirement already satisfied: pillow in ./phd/lib/python3.12/site-packages (from pycbc->-r requirements.txt (line 1)) (11.3.0)\n",
      "Requirement already satisfied: h5py!=3.7.0,>=3.0.0 in ./phd/lib/python3.12/site-packages (from pycbc->-r requirements.txt (line 1)) (3.14.0)\n",
      "Requirement already satisfied: jinja2 in ./phd/lib/python3.12/site-packages (from pycbc->-r requirements.txt (line 1)) (3.1.6)\n",
      "Requirement already satisfied: Mako>=1.0.1 in ./phd/lib/python3.12/site-packages (from pycbc->-r requirements.txt (line 1)) (1.3.10)\n",
      "Requirement already satisfied: beautifulsoup4>=4.6.0 in ./phd/lib/python3.12/site-packages (from pycbc->-r requirements.txt (line 1)) (4.13.5)\n",
      "Requirement already satisfied: tqdm in ./phd/lib/python3.12/site-packages (from pycbc->-r requirements.txt (line 1)) (4.67.1)\n",
      "Requirement already satisfied: setuptools in ./phd/lib/python3.12/site-packages (from pycbc->-r requirements.txt (line 1)) (80.9.0)\n",
      "Requirement already satisfied: gwdatafind in ./phd/lib/python3.12/site-packages (from pycbc->-r requirements.txt (line 1)) (2.1.0)\n",
      "Requirement already satisfied: pegasus-wms.api>=5.1.1 in ./phd/lib/python3.12/site-packages (from pycbc->-r requirements.txt (line 1)) (5.1.1)\n",
      "Requirement already satisfied: igwn-ligolw<2.1.0 in ./phd/lib/python3.12/site-packages (from pycbc->-r requirements.txt (line 1)) (2.0.1)\n",
      "Requirement already satisfied: igwn-segments in ./phd/lib/python3.12/site-packages (from pycbc->-r requirements.txt (line 1)) (2.1.0)\n",
      "Requirement already satisfied: lalsuite!=7.2 in ./phd/lib/python3.12/site-packages (from pycbc->-r requirements.txt (line 1)) (7.26.1)\n",
      "Requirement already satisfied: lscsoft-glue>=1.59.3 in ./phd/lib/python3.12/site-packages (from pycbc->-r requirements.txt (line 1)) (4.1.1)\n",
      "Requirement already satisfied: pykerr in ./phd/lib/python3.12/site-packages (from pycbc->-r requirements.txt (line 1)) (0.1.0)\n",
      "Requirement already satisfied: contourpy>=1.0.1 in ./phd/lib/python3.12/site-packages (from matplotlib->-r requirements.txt (line 2)) (1.3.3)\n",
      "Requirement already satisfied: cycler>=0.10 in ./phd/lib/python3.12/site-packages (from matplotlib->-r requirements.txt (line 2)) (0.12.1)\n",
      "Requirement already satisfied: fonttools>=4.22.0 in ./phd/lib/python3.12/site-packages (from matplotlib->-r requirements.txt (line 2)) (4.59.2)\n",
      "Requirement already satisfied: kiwisolver>=1.3.1 in ./phd/lib/python3.12/site-packages (from matplotlib->-r requirements.txt (line 2)) (1.4.9)\n",
      "Requirement already satisfied: packaging>=20.0 in ./phd/lib/python3.12/site-packages (from matplotlib->-r requirements.txt (line 2)) (25.0)\n",
      "Requirement already satisfied: pyparsing>=2.3.1 in ./phd/lib/python3.12/site-packages (from matplotlib->-r requirements.txt (line 2)) (3.2.4)\n",
      "Requirement already satisfied: python-dateutil>=2.7 in ./phd/lib/python3.12/site-packages (from matplotlib->-r requirements.txt (line 2)) (2.9.0.post0)\n",
      "Requirement already satisfied: dateparser>=1.1.4 in ./phd/lib/python3.12/site-packages (from gwpy->-r requirements.txt (line 5)) (1.2.2)\n",
      "Requirement already satisfied: dqsegdb2 in ./phd/lib/python3.12/site-packages (from gwpy->-r requirements.txt (line 5)) (1.3.0)\n",
      "Requirement already satisfied: gwosc>=0.5.3 in ./phd/lib/python3.12/site-packages (from gwpy->-r requirements.txt (line 5)) (0.8.1)\n",
      "Requirement already satisfied: ligotimegps>=1.2.1 in ./phd/lib/python3.12/site-packages (from gwpy->-r requirements.txt (line 5)) (2.0.1)\n",
      "Requirement already satisfied: requests>=2.20.0 in ./phd/lib/python3.12/site-packages (from gwpy->-r requirements.txt (line 5)) (2.32.5)\n",
      "Requirement already satisfied: pyerfa>=2.0.1.1 in ./phd/lib/python3.12/site-packages (from astropy->-r requirements.txt (line 6)) (2.0.1.5)\n",
      "Requirement already satisfied: astropy-iers-data>=0.2025.4.28.0.37.27 in ./phd/lib/python3.12/site-packages (from astropy->-r requirements.txt (line 6)) (0.2025.9.15.0.37.0)\n",
      "Requirement already satisfied: PyYAML>=6.0.0 in ./phd/lib/python3.12/site-packages (from astropy->-r requirements.txt (line 6)) (6.0.2)\n",
      "Requirement already satisfied: pytz>=2020.1 in ./phd/lib/python3.12/site-packages (from pandas->-r requirements.txt (line 7)) (2025.2)\n",
      "Requirement already satisfied: tzdata>=2022.7 in ./phd/lib/python3.12/site-packages (from pandas->-r requirements.txt (line 7)) (2025.2)\n",
      "Requirement already satisfied: soupsieve>1.2 in ./phd/lib/python3.12/site-packages (from beautifulsoup4>=4.6.0->pycbc->-r requirements.txt (line 1)) (2.8)\n",
      "Requirement already satisfied: typing-extensions>=4.0.0 in ./phd/lib/python3.12/site-packages (from beautifulsoup4>=4.6.0->pycbc->-r requirements.txt (line 1)) (4.15.0)\n",
      "Requirement already satisfied: regex>=2024.9.11 in ./phd/lib/python3.12/site-packages (from dateparser>=1.1.4->gwpy->-r requirements.txt (line 5)) (2025.9.1)\n",
      "Requirement already satisfied: tzlocal>=0.2 in ./phd/lib/python3.12/site-packages (from dateparser>=1.1.4->gwpy->-r requirements.txt (line 5)) (5.3.1)\n",
      "Requirement already satisfied: igwn-auth-utils>=0.3.1 in ./phd/lib/python3.12/site-packages (from gwdatafind->pycbc->-r requirements.txt (line 1)) (1.4.0)\n",
      "Requirement already satisfied: MarkupSafe>=0.9.2 in ./phd/lib/python3.12/site-packages (from Mako>=1.0.1->pycbc->-r requirements.txt (line 1)) (3.0.2)\n",
      "Requirement already satisfied: pegasus-wms.common in ./phd/lib/python3.12/site-packages (from pegasus-wms.api>=5.1.1->pycbc->-r requirements.txt (line 1)) (5.1.1)\n",
      "Requirement already satisfied: six>=1.5 in ./phd/lib/python3.12/site-packages (from python-dateutil>=2.7->matplotlib->-r requirements.txt (line 2)) (1.17.0)\n",
      "Requirement already satisfied: charset_normalizer<4,>=2 in ./phd/lib/python3.12/site-packages (from requests>=2.20.0->gwpy->-r requirements.txt (line 5)) (3.4.3)\n",
      "Requirement already satisfied: idna<4,>=2.5 in ./phd/lib/python3.12/site-packages (from requests>=2.20.0->gwpy->-r requirements.txt (line 5)) (3.10)\n",
      "Requirement already satisfied: urllib3<3,>=1.21.1 in ./phd/lib/python3.12/site-packages (from requests>=2.20.0->gwpy->-r requirements.txt (line 5)) (2.5.0)\n",
      "Requirement already satisfied: certifi>=2017.4.17 in ./phd/lib/python3.12/site-packages (from requests>=2.20.0->gwpy->-r requirements.txt (line 5)) (2025.8.3)\n",
      "Requirement already satisfied: click>=6.7 in ./phd/lib/python3.12/site-packages (from dqsegdb2->gwpy->-r requirements.txt (line 5)) (8.2.1)\n",
      "Requirement already satisfied: cryptography>=44.0.1 in ./phd/lib/python3.12/site-packages (from igwn-auth-utils>=0.3.1->gwdatafind->pycbc->-r requirements.txt (line 1)) (45.0.7)\n",
      "Requirement already satisfied: safe-netrc>=1.0 in ./phd/lib/python3.12/site-packages (from igwn-auth-utils>=0.3.1->gwdatafind->pycbc->-r requirements.txt (line 1)) (1.0.1)\n",
      "Requirement already satisfied: scitokens>=1.8 in ./phd/lib/python3.12/site-packages (from igwn-auth-utils>=0.3.1->gwdatafind->pycbc->-r requirements.txt (line 1)) (1.8.1)\n",
      "Requirement already satisfied: cffi>=1.14 in ./phd/lib/python3.12/site-packages (from cryptography>=44.0.1->igwn-auth-utils>=0.3.1->gwdatafind->pycbc->-r requirements.txt (line 1)) (2.0.0)\n",
      "Requirement already satisfied: PyJWT>=1.6.1 in ./phd/lib/python3.12/site-packages (from scitokens>=1.8->igwn-auth-utils>=0.3.1->gwdatafind->pycbc->-r requirements.txt (line 1)) (2.10.1)\n",
      "Requirement already satisfied: pycparser in ./phd/lib/python3.12/site-packages (from cffi>=1.14->cryptography>=44.0.1->igwn-auth-utils>=0.3.1->gwdatafind->pycbc->-r requirements.txt (line 1)) (2.23)\n"
     ]
    }
   ],
   "source": [
    "!pip install -r requirements.txt"
   ]
  },
  {
   "cell_type": "code",
   "execution_count": 2,
   "id": "c25d027f",
   "metadata": {},
   "outputs": [],
   "source": [
    "import matplotlib.pyplot as plt\n",
    "import numpy as np\n",
    "import scipy\n",
    "from scipy import constants\n",
    "from scipy import signal\n",
    "import scipy.integrate as integrate\n",
    "import scipy.special as special\n",
    "from scipy.integrate import dblquad\n",
    "from matplotlib.ticker import MultipleLocator\n",
    "import pylab\n",
    "import astropy.units as u\n",
    "from astropy.constants import G, c\n",
    "from astropy.cosmology import FlatLambdaCDM, z_at_value\n",
    "from scipy.special import gamma as gamma_func\n",
    "from matplotlib.colors import LogNorm"
   ]
  },
  {
   "cell_type": "code",
   "execution_count": 3,
   "id": "224fe870",
   "metadata": {},
   "outputs": [
    {
     "name": "stderr",
     "output_type": "stream",
     "text": [
      "/home/rosar/phd/personal/phd/lib/python3.12/site-packages/pycbc/types/array.py:36: UserWarning: Wswiglal-redir-stdio:\n",
      "\n",
      "SWIGLAL standard output/error redirection is enabled in IPython.\n",
      "This may lead to performance penalties. To disable locally, use:\n",
      "\n",
      "with lal.no_swig_redirect_standard_output_error():\n",
      "    ...\n",
      "\n",
      "To disable globally, use:\n",
      "\n",
      "lal.swig_redirect_standard_output_error(False)\n",
      "\n",
      "Note however that this will likely lead to error messages from\n",
      "LAL functions being either misdirected or lost when called from\n",
      "Jupyter notebooks.\n",
      "\n",
      "To suppress this warning, use:\n",
      "\n",
      "import warnings\n",
      "warnings.filterwarnings(\"ignore\", \"Wswiglal-redir-stdio\")\n",
      "import lal\n",
      "\n",
      "  import lal as _lal\n",
      "PyCBC.libutils: pkg-config call failed, setting NO_PKGCONFIG=1\n",
      "/home/rosar/phd/personal/phd/lib/python3.12/site-packages/pykerr/qnm.py:2: UserWarning: pkg_resources is deprecated as an API. See https://setuptools.pypa.io/en/latest/pkg_resources.html. The pkg_resources package is slated for removal as early as 2025-11-30. Refrain from using this package or pin to Setuptools<81.\n",
      "  import pkg_resources\n"
     ]
    }
   ],
   "source": [
    "from pycbc.waveform import get_td_waveform, get_fd_waveform\n",
    "from pycbc.waveform import td_approximants, fd_approximants\n",
    "import pycbc.waveform\n",
    "from pycbc.types import TimeSeries\n",
    "from pycbc.types import FrequencySeries\n",
    "from pycbc.filter import match\n",
    "from pycbc.psd import aLIGOZeroDetHighPower\n",
    "from pycbc.psd import interpolate, inverse_spectrum_truncation\n",
    "import pylab\n",
    "from pycbc.filter import resample_to_delta_t, highpass\n",
    "import pycbc.noise\n",
    "import pycbc.psd\n",
    "from pycbc.filter import matched_filter\n",
    "from pycbc.filter import sigma\n",
    "from mpmath import mp\n",
    "from astropy.cosmology import Planck18 as cosmo\n",
    "from matplotlib.ticker import LogLocator, LogFormatter\n",
    "from pycbc.psd import welch"
   ]
  },
  {
   "cell_type": "code",
   "execution_count": 4,
   "id": "370ee77c",
   "metadata": {},
   "outputs": [
    {
     "name": "stdout",
     "output_type": "stream",
     "text": [
      "20 CPUs\n"
     ]
    }
   ],
   "source": [
    "from functools import partial\n",
    "import multiprocessing\n",
    "from tqdm import tqdm\n",
    "from multiprocessing import cpu_count\n",
    "\n",
    "ncpu = cpu_count()\n",
    "print(f\"{ncpu} CPUs\")"
   ]
  },
  {
   "cell_type": "markdown",
   "id": "81dc32dd",
   "metadata": {},
   "source": [
    "$\\Omega$ parameter"
   ]
  },
  {
   "cell_type": "code",
   "execution_count": 5,
   "id": "385bd2dd",
   "metadata": {},
   "outputs": [],
   "source": [
    "def omega (Ml,f):\n",
    "    solar_mass_kg = 1.9891e30*u.kilogram\n",
    "    Ml_kg = Ml*solar_mass_kg\n",
    "    f_Hz = f*u.hertz\n",
    "\n",
    "    cons = 8*np.pi*G*(c**(-3))\n",
    "    omega = cons * Ml_kg * f_Hz\n",
    "    return omega.value\n"
   ]
  },
  {
   "cell_type": "code",
   "execution_count": 6,
   "id": "2f7ad3e1",
   "metadata": {},
   "outputs": [
    {
     "data": {
      "text/plain": [
       "array([[1.23834054e-09, 1.56260854e-09, 1.97178834e-09, ...,\n",
       "        7.77713952e+00, 9.81363703e+00, 1.23834054e+01],\n",
       "       [6.25547100e-06, 7.89350914e-06, 9.96047884e-06, ...,\n",
       "        3.92861810e+04, 4.95735379e+04, 6.25547100e+04],\n",
       "       [1.25097037e-05, 1.57854557e-05, 1.99189859e-05, ...,\n",
       "        7.85645848e+04, 9.91372621e+04, 1.25097037e+05],\n",
       "       ...,\n",
       "       [6.06661806e-04, 7.65520376e-04, 9.65977156e-04, ...,\n",
       "        3.81001295e+06, 4.80769107e+06, 6.06661806e+06],\n",
       "       [6.12916039e-04, 7.73412323e-04, 9.75935663e-04, ...,\n",
       "        3.84929135e+06, 4.85725479e+06, 6.12916039e+06],\n",
       "       [6.19170272e-04, 7.81304269e-04, 9.85894170e-04, ...,\n",
       "        3.88856976e+06, 4.90681851e+06, 6.19170272e+06]], shape=(100, 100))"
      ]
     },
     "execution_count": 6,
     "metadata": {},
     "output_type": "execute_result"
    }
   ],
   "source": [
    "f_range = np.linspace(0.001,500,100)\n",
    "m_range = np.logspace (-2,8,100)\n",
    "\n",
    "m_grid,f_grid = np.meshgrid(f_range,m_range,indexing = 'ij')\n",
    "omega_grid = omega(m_grid,f_grid)\n",
    "omega_grid.reshape(m_grid.shape)"
   ]
  },
  {
   "cell_type": "code",
   "execution_count": 19,
   "id": "7a43fc11",
   "metadata": {},
   "outputs": [
    {
     "name": "stderr",
     "output_type": "stream",
     "text": [
      "<>:5: SyntaxWarning: invalid escape sequence '\\O'\n",
      "<>:7: SyntaxWarning: invalid escape sequence '\\O'\n",
      "<>:11: SyntaxWarning: invalid escape sequence '\\o'\n",
      "<>:5: SyntaxWarning: invalid escape sequence '\\O'\n",
      "<>:7: SyntaxWarning: invalid escape sequence '\\O'\n",
      "<>:11: SyntaxWarning: invalid escape sequence '\\o'\n",
      "/tmp/ipykernel_6478/3974718379.py:5: SyntaxWarning: invalid escape sequence '\\O'\n",
      "  plt.clabel(contour_line,inline=True,fmt='$\\Omega$=1')\n",
      "/tmp/ipykernel_6478/3974718379.py:7: SyntaxWarning: invalid escape sequence '\\O'\n",
      "  plt.clabel(contour_line2,inline=True,fmt='$\\Omega = 10⁴$')\n",
      "/tmp/ipykernel_6478/3974718379.py:11: SyntaxWarning: invalid escape sequence '\\o'\n",
      "  plt.ylabel('Lens mass ($M_\\odot$)')\n",
      "/tmp/ipykernel_6478/3974718379.py:4: UserWarning: The following kwargs were not used by contour: 'linewidth'\n",
      "  contour_line = plt.contour(m_grid,f_grid,omega_grid,levels =[1],colors = 'red',linewidth = 2)\n",
      "/tmp/ipykernel_6478/3974718379.py:6: UserWarning: The following kwargs were not used by contour: 'linewidth'\n",
      "  contour_line2 = plt.contour(m_grid,f_grid,omega_grid,levels =[10000],colors = 'red',linewidth = 2)\n"
     ]
    },
    {
     "data": {
      "image/png": "[encoded data removed]",
      "text/plain": [
       "<Figure size 1200x800 with 2 Axes>"
      ]
     },
     "metadata": {},
     "output_type": "display_data"
    }
   ],
   "source": [
    "plt.figure(figsize=(12,8))\n",
    "contour = plt.contourf(m_grid,f_grid,omega_grid,levels = 30,norm = LogNorm())\n",
    "plt.colorbar(contour,label = 'Omega[]')\n",
    "contour_line = plt.contour(m_grid,f_grid,omega_grid,levels =[1],colors = 'red',linewidth = 2)\n",
    "plt.clabel(contour_line,inline=True,fmt='$\\Omega$=1')\n",
    "contour_line2 = plt.contour(m_grid,f_grid,omega_grid,levels =[10000],colors = 'red',linewidth = 2)\n",
    "plt.clabel(contour_line2,inline=True,fmt='$\\Omega = 10⁴$')\n",
    "plt.yscale('log')\n",
    "\n",
    "plt.xlabel('Frequency (Hz)')\n",
    "plt.ylabel('Lens mass ($M_\\odot$)')\n",
    "pylab.grid(True, which=\"both\", ls=\"--\")\n",
    "plt.title('Lens Mass vs Frequency')\n",
    "gw_bands = {\n",
    "    'LISA': (0.001, 0.1),\n",
    "    'LIGO/Virgo': (10, 500),\n",
    "    'ET': (1, 500)\n",
    "}\n",
    "\n",
    "\n",
    "lens_types = {\n",
    "    'Planetary': (0.01, 0.1),\n",
    "    'Stellar': (1, 100),\n",
    "    'SMBH': (1e4, 1e8)\n",
    "}\n",
    "\n"
   ]
  },
  {
   "cell_type": "code",
   "execution_count": null,
   "id": "0e73c8a9",
   "metadata": {},
   "outputs": [],
   "source": [
    "def geometric_optics_model(dl_pc, ds_pc, M_sm, beta_arcsec):\n",
    "\n",
    "    solar_mass_kg = 1.9891e30*u.kilogram\n",
    "    dl_m = (dl_pc*u.pc).to(u.m)\n",
    "    ds_m = (ds_pc*u.pc).to(u.m)\n",
    "    M_kg = M_sm * solar_mass_kg\n",
    "    beta_rad = (beta_arcsec*u.arcsec).to(u.m)\n",
    "    d_ls_m = ds_m - dl_m\n",
    "    z_l = z_at_value(cosmo.angular_diameter_distance,dl_pc*u.pc, zmax=10)\n",
    "    if d_ls_m <= 0:\n",
    "        return 0, 0, 0\n",
    "\n",
    "    einstein_rad_sq = (4 * G.value * M_kg / c.value**2) * (d_ls_m / (ds_m * dl_m))\n",
    "    einstein_rad = np.sqrt(einstein_rad_sq)\n",
    "    w = beta_rad / einstein_rad\n",
    "\n",
    "\n",
    "    sqrt_term = np.sqrt(w**2 + 4)\n",
    "    mag_plus = 0.5 * (1 + (w**2 + 2) / (w * sqrt_term))\n",
    "    mag_minus = 0.5 * (1 - (w**2 + 2) / (w * sqrt_term))\n",
    "\n",
    "    time_delay_const = (1 + z_l) * (4 * G.value * M_kg / c.value**3)\n",
    "    term1 = (w * sqrt_term) / 2\n",
    "    term2 = np.log((sqrt_term + w) / (sqrt_term - w))\n",
    "\n",
    "    time_delay_difference = time_delay_const * (term1 + term2) #faster computation of time delay between both images- this is the same mathematics\n",
    "\n",
    "    return mag_plus, mag_minus, time_delay_difference"
   ]
  },
  {
   "cell_type": "code",
   "execution_count": 22,
   "id": "3f4c2630",
   "metadata": {},
   "outputs": [],
   "source": [
    "def einstein_radius_calc(M_sm, ds_pc, dl_pc):\n",
    "    if ds_pc <= dl_pc: \n",
    "        return 0\n",
    "    \n",
    "    solar_mass_kg = 1.9891e30*u.kilogram\n",
    "    dl_m = (dl_pc*u.pc).to(u.m)\n",
    "    ds_m = (ds_pc*u.pc).to(u.m)\n",
    "    M_kg = M_sm * solar_mass_kg\n",
    "    d_ls_m = ds_m - dl_m\n",
    "    \n",
    "    einstein_rad_sq = (4 * G.value * M_kg / (c.value**2)) * (d_ls_m / (ds_m * dl_m))\n",
    "    return np.sqrt(einstein_rad_sq)"
   ]
  },
  {
   "cell_type": "code",
   "execution_count": 24,
   "id": "2170df19",
   "metadata": {},
   "outputs": [],
   "source": [
    "def beta_einst_rad_ratio (M_sm,dl_pc,beta_arcsec):\n",
    "    ds_pc = 1e9\n",
    "    beta_rad = (beta_arcsec*u.arcsec).to(u.m)\n",
    "\n",
    "    einst_rad_rad = einstein_radius_calc(M_sm,ds_pc,dl_pc)\n",
    "\n",
    "    beta_norm_to_einst_radius = beta_rad/einst_rad_rad\n",
    "\n",
    "    return beta_norm_to_einst_radius\n",
    "    "
   ]
  },
  {
   "cell_type": "code",
   "execution_count": 40,
   "id": "77ee2392",
   "metadata": {},
   "outputs": [],
   "source": [
    "def blind_time_delay_eikonal(M_sm, beta_to_erad_ratio,dl_pc):\n",
    "\n",
    "    solar_mass_kg = 1.9891e30*u.kilogram\n",
    "    M_kg = M_sm * solar_mass_kg\n",
    "    if dl_pc <=100:\n",
    "        z_l = 0\n",
    "    else: \n",
    "        z_l = z_at_value(cosmo.angular_diameter_distance,dl_pc*u.pc, zmax=10)\n",
    "    w = beta_to_erad_ratio\n",
    "\n",
    "\n",
    "    sqrt_term = np.sqrt(w**2 + 4)\n",
    "    #Magnification of both images\n",
    "    mag_plus = 0.5 * (1 + (w**2 + 2) / (w * sqrt_term))\n",
    "    mag_minus = 0.5 * (1 - (w**2 + 2) / (w * sqrt_term))\n",
    "\n",
    "    #Time-delay between both images\n",
    "    time_delay_const = (1 + z_l) * (4 * G * M_kg / c**3)\n",
    "    term1 = (w * sqrt_term) / 2\n",
    "    term2 = np.log((sqrt_term + w) / (sqrt_term - w))\n",
    "    time_delay_difference = time_delay_const * (term1 + term2) #faster computation of time delay between both images- this is the same mathematics\n",
    "\n",
    "    return mag_plus, mag_minus, time_delay_difference"
   ]
  },
  {
   "cell_type": "code",
   "execution_count": 150,
   "id": "cbd2d8e4",
   "metadata": {},
   "outputs": [
    {
     "ename": "ValueError",
     "evalue": "cannot reshape array of size 93 into shape (2,)",
     "output_type": "error",
     "traceback": [
      "\u001b[31m---------------------------------------------------------------------------\u001b[39m",
      "\u001b[31mValueError\u001b[39m                                Traceback (most recent call last)",
      "\u001b[36mCell\u001b[39m\u001b[36m \u001b[39m\u001b[32mIn[150]\u001b[39m\u001b[32m, line 12\u001b[39m\n\u001b[32m     10\u001b[39m mask = omega_grid>=\u001b[32m1\u001b[39m\n\u001b[32m     11\u001b[39m eik_omega = omega_grid[mask]\n\u001b[32m---> \u001b[39m\u001b[32m12\u001b[39m eik_omega = \u001b[43meik_omega\u001b[49m\u001b[43m.\u001b[49m\u001b[43mreshape\u001b[49m\u001b[43m(\u001b[49m\u001b[32;43m2\u001b[39;49m\u001b[43m)\u001b[49m\n\u001b[32m     13\u001b[39m eik_f = f_grid[mask]\n\u001b[32m     14\u001b[39m eik_M = M_grid[mask]\n",
      "\u001b[31mValueError\u001b[39m: cannot reshape array of size 93 into shape (2,)"
     ]
    }
   ],
   "source": [
    "\n",
    "beta_to_erad_ratio = np.array([0.01,0.1,0.3,0.5,0.7,1,1.2,1.5,2,3,5,10])\n",
    "dl_pc = 5*1e4 #LMC\n",
    "\n",
    "M_range = np.logspace(-2,10,12)\n",
    "f_range = np.linspace(0.001,500,12) #LISA+ET+LVK\n",
    "\n",
    "f_grid,M_grid = np.meshgrid(f_range,M_range, indexing = 'ij')\n",
    "#Which frequency-M_l set gives eikonal regime ? \n",
    "omega_grid = omega(M_grid,f_grid) \n",
    "mask = omega_grid>=1\n",
    "eik_omega = omega_grid[mask]\n",
    "eik_omega = eik_omega.reshape(2)\n",
    "eik_f = f_grid[mask]\n",
    "eik_M = M_grid[mask]\n",
    "\n",
    "mp,mm,td = blind_time_delay_eikonal(M_sm = 10,beta_to_erad_ratio=10000000,dl_pc=20)\n",
    "ratio = len(eik_omega)/len(omega_grid.flatten())*100\n",
    "print (f'{ratio:.1f}% of couples induces eikonal regime')"
   ]
  },
  {
   "cell_type": "code",
   "execution_count": 148,
   "id": "1cd1f754",
   "metadata": {},
   "outputs": [
    {
     "name": "stderr",
     "output_type": "stream",
     "text": [
      "<>:8: SyntaxWarning: invalid escape sequence '\\o'\n",
      "<>:8: SyntaxWarning: invalid escape sequence '\\o'\n",
      "/tmp/ipykernel_6478/1463177306.py:8: SyntaxWarning: invalid escape sequence '\\o'\n",
      "  plt.ylabel('Lens mass ($M_\\odot$)')\n",
      "/tmp/ipykernel_6478/1463177306.py:8: SyntaxWarning: invalid escape sequence '\\o'\n",
      "  plt.ylabel('Lens mass ($M_\\odot$)')\n"
     ]
    },
    {
     "ename": "TypeError",
     "evalue": "Input z must be 2D, not 1D",
     "output_type": "error",
     "traceback": [
      "\u001b[31m---------------------------------------------------------------------------\u001b[39m",
      "\u001b[31mTypeError\u001b[39m                                 Traceback (most recent call last)",
      "\u001b[36mCell\u001b[39m\u001b[36m \u001b[39m\u001b[32mIn[148]\u001b[39m\u001b[32m, line 2\u001b[39m\n\u001b[32m      1\u001b[39m plt.figure(figsize=(\u001b[32m12\u001b[39m,\u001b[32m8\u001b[39m))\n\u001b[32m----> \u001b[39m\u001b[32m2\u001b[39m contour = \u001b[43mplt\u001b[49m\u001b[43m.\u001b[49m\u001b[43mcontourf\u001b[49m\u001b[43m(\u001b[49m\u001b[43meik_f\u001b[49m\u001b[43m,\u001b[49m\u001b[43meik_M\u001b[49m\u001b[43m,\u001b[49m\u001b[43meik_omega\u001b[49m\u001b[43m,\u001b[49m\u001b[43mlevels\u001b[49m\u001b[43m \u001b[49m\u001b[43m=\u001b[49m\u001b[43m \u001b[49m\u001b[32;43m30\u001b[39;49m\u001b[43m,\u001b[49m\u001b[43mnorm\u001b[49m\u001b[43m \u001b[49m\u001b[43m=\u001b[49m\u001b[43m \u001b[49m\u001b[43mLogNorm\u001b[49m\u001b[43m(\u001b[49m\u001b[43m)\u001b[49m\u001b[43m)\u001b[49m\n\u001b[32m      3\u001b[39m plt.colorbar(contour,label = \u001b[33m'\u001b[39m\u001b[33mOmega_eikonal[]\u001b[39m\u001b[33m'\u001b[39m)\n\u001b[32m      5\u001b[39m plt.yscale(\u001b[33m'\u001b[39m\u001b[33mlog\u001b[39m\u001b[33m'\u001b[39m)\n",
      "\u001b[36mFile \u001b[39m\u001b[32m~/phd/personal/phd/lib/python3.12/site-packages/matplotlib/pyplot.py:3190\u001b[39m, in \u001b[36mcontourf\u001b[39m\u001b[34m(data, *args, **kwargs)\u001b[39m\n\u001b[32m   3188\u001b[39m \u001b[38;5;129m@_copy_docstring_and_deprecators\u001b[39m(Axes.contourf)\n\u001b[32m   3189\u001b[39m \u001b[38;5;28;01mdef\u001b[39;00m\u001b[38;5;250m \u001b[39m\u001b[34mcontourf\u001b[39m(*args, data=\u001b[38;5;28;01mNone\u001b[39;00m, **kwargs) -> QuadContourSet:\n\u001b[32m-> \u001b[39m\u001b[32m3190\u001b[39m     __ret = \u001b[43mgca\u001b[49m\u001b[43m(\u001b[49m\u001b[43m)\u001b[49m\u001b[43m.\u001b[49m\u001b[43mcontourf\u001b[49m\u001b[43m(\u001b[49m\n\u001b[32m   3191\u001b[39m \u001b[43m        \u001b[49m\u001b[43m*\u001b[49m\u001b[43margs\u001b[49m\u001b[43m,\u001b[49m\u001b[43m \u001b[49m\u001b[43m*\u001b[49m\u001b[43m*\u001b[49m\u001b[43m(\u001b[49m\u001b[43m{\u001b[49m\u001b[33;43m\"\u001b[39;49m\u001b[33;43mdata\u001b[39;49m\u001b[33;43m\"\u001b[39;49m\u001b[43m:\u001b[49m\u001b[43m \u001b[49m\u001b[43mdata\u001b[49m\u001b[43m}\u001b[49m\u001b[43m \u001b[49m\u001b[38;5;28;43;01mif\u001b[39;49;00m\u001b[43m \u001b[49m\u001b[43mdata\u001b[49m\u001b[43m \u001b[49m\u001b[38;5;129;43;01mis\u001b[39;49;00m\u001b[43m \u001b[49m\u001b[38;5;129;43;01mnot\u001b[39;49;00m\u001b[43m \u001b[49m\u001b[38;5;28;43;01mNone\u001b[39;49;00m\u001b[43m \u001b[49m\u001b[38;5;28;43;01melse\u001b[39;49;00m\u001b[43m \u001b[49m\u001b[43m{\u001b[49m\u001b[43m}\u001b[49m\u001b[43m)\u001b[49m\u001b[43m,\u001b[49m\u001b[43m \u001b[49m\u001b[43m*\u001b[49m\u001b[43m*\u001b[49m\u001b[43mkwargs\u001b[49m\n\u001b[32m   3192\u001b[39m \u001b[43m    \u001b[49m\u001b[43m)\u001b[49m\n\u001b[32m   3193\u001b[39m     \u001b[38;5;28;01mif\u001b[39;00m __ret._A \u001b[38;5;129;01mis\u001b[39;00m \u001b[38;5;129;01mnot\u001b[39;00m \u001b[38;5;28;01mNone\u001b[39;00m:  \u001b[38;5;66;03m# type: ignore[attr-defined]\u001b[39;00m\n\u001b[32m   3194\u001b[39m         sci(__ret)\n",
      "\u001b[36mFile \u001b[39m\u001b[32m~/phd/personal/phd/lib/python3.12/site-packages/matplotlib/__init__.py:1524\u001b[39m, in \u001b[36m_preprocess_data.<locals>.inner\u001b[39m\u001b[34m(ax, data, *args, **kwargs)\u001b[39m\n\u001b[32m   1521\u001b[39m \u001b[38;5;129m@functools\u001b[39m.wraps(func)\n\u001b[32m   1522\u001b[39m \u001b[38;5;28;01mdef\u001b[39;00m\u001b[38;5;250m \u001b[39m\u001b[34minner\u001b[39m(ax, *args, data=\u001b[38;5;28;01mNone\u001b[39;00m, **kwargs):\n\u001b[32m   1523\u001b[39m     \u001b[38;5;28;01mif\u001b[39;00m data \u001b[38;5;129;01mis\u001b[39;00m \u001b[38;5;28;01mNone\u001b[39;00m:\n\u001b[32m-> \u001b[39m\u001b[32m1524\u001b[39m         \u001b[38;5;28;01mreturn\u001b[39;00m \u001b[43mfunc\u001b[49m\u001b[43m(\u001b[49m\n\u001b[32m   1525\u001b[39m \u001b[43m            \u001b[49m\u001b[43max\u001b[49m\u001b[43m,\u001b[49m\n\u001b[32m   1526\u001b[39m \u001b[43m            \u001b[49m\u001b[43m*\u001b[49m\u001b[38;5;28;43mmap\u001b[39;49m\u001b[43m(\u001b[49m\u001b[43mcbook\u001b[49m\u001b[43m.\u001b[49m\u001b[43msanitize_sequence\u001b[49m\u001b[43m,\u001b[49m\u001b[43m \u001b[49m\u001b[43margs\u001b[49m\u001b[43m)\u001b[49m\u001b[43m,\u001b[49m\n\u001b[32m   1527\u001b[39m \u001b[43m            \u001b[49m\u001b[43m*\u001b[49m\u001b[43m*\u001b[49m\u001b[43m{\u001b[49m\u001b[43mk\u001b[49m\u001b[43m:\u001b[49m\u001b[43m \u001b[49m\u001b[43mcbook\u001b[49m\u001b[43m.\u001b[49m\u001b[43msanitize_sequence\u001b[49m\u001b[43m(\u001b[49m\u001b[43mv\u001b[49m\u001b[43m)\u001b[49m\u001b[43m \u001b[49m\u001b[38;5;28;43;01mfor\u001b[39;49;00m\u001b[43m \u001b[49m\u001b[43mk\u001b[49m\u001b[43m,\u001b[49m\u001b[43m \u001b[49m\u001b[43mv\u001b[49m\u001b[43m \u001b[49m\u001b[38;5;129;43;01min\u001b[39;49;00m\u001b[43m \u001b[49m\u001b[43mkwargs\u001b[49m\u001b[43m.\u001b[49m\u001b[43mitems\u001b[49m\u001b[43m(\u001b[49m\u001b[43m)\u001b[49m\u001b[43m}\u001b[49m\u001b[43m)\u001b[49m\n\u001b[32m   1529\u001b[39m     bound = new_sig.bind(ax, *args, **kwargs)\n\u001b[32m   1530\u001b[39m     auto_label = (bound.arguments.get(label_namer)\n\u001b[32m   1531\u001b[39m                   \u001b[38;5;129;01mor\u001b[39;00m bound.kwargs.get(label_namer))\n",
      "\u001b[36mFile \u001b[39m\u001b[32m~/phd/personal/phd/lib/python3.12/site-packages/matplotlib/axes/_axes.py:6797\u001b[39m, in \u001b[36mAxes.contourf\u001b[39m\u001b[34m(self, *args, **kwargs)\u001b[39m\n\u001b[32m   6786\u001b[39m \u001b[38;5;250m\u001b[39m\u001b[33;03m\"\"\"\u001b[39;00m\n\u001b[32m   6787\u001b[39m \u001b[33;03mPlot filled contours.\u001b[39;00m\n\u001b[32m   6788\u001b[39m \n\u001b[32m   (...)\u001b[39m\u001b[32m   6794\u001b[39m \u001b[33;03m%(contour_doc)s\u001b[39;00m\n\u001b[32m   6795\u001b[39m \u001b[33;03m\"\"\"\u001b[39;00m\n\u001b[32m   6796\u001b[39m kwargs[\u001b[33m'\u001b[39m\u001b[33mfilled\u001b[39m\u001b[33m'\u001b[39m] = \u001b[38;5;28;01mTrue\u001b[39;00m\n\u001b[32m-> \u001b[39m\u001b[32m6797\u001b[39m contours = \u001b[43mmcontour\u001b[49m\u001b[43m.\u001b[49m\u001b[43mQuadContourSet\u001b[49m\u001b[43m(\u001b[49m\u001b[38;5;28;43mself\u001b[39;49m\u001b[43m,\u001b[49m\u001b[43m \u001b[49m\u001b[43m*\u001b[49m\u001b[43margs\u001b[49m\u001b[43m,\u001b[49m\u001b[43m \u001b[49m\u001b[43m*\u001b[49m\u001b[43m*\u001b[49m\u001b[43mkwargs\u001b[49m\u001b[43m)\u001b[49m\n\u001b[32m   6798\u001b[39m \u001b[38;5;28mself\u001b[39m._request_autoscale_view()\n\u001b[32m   6799\u001b[39m \u001b[38;5;28;01mreturn\u001b[39;00m contours\n",
      "\u001b[36mFile \u001b[39m\u001b[32m~/phd/personal/phd/lib/python3.12/site-packages/matplotlib/contour.py:701\u001b[39m, in \u001b[36mContourSet.__init__\u001b[39m\u001b[34m(self, ax, levels, filled, linewidths, linestyles, hatches, alpha, origin, extent, cmap, colors, norm, vmin, vmax, colorizer, extend, antialiased, nchunk, locator, transform, negative_linestyles, clip_path, *args, **kwargs)\u001b[39m\n\u001b[32m    697\u001b[39m \u001b[38;5;28;01mif\u001b[39;00m \u001b[38;5;28mself\u001b[39m.negative_linestyles \u001b[38;5;129;01mis\u001b[39;00m \u001b[38;5;28;01mNone\u001b[39;00m:\n\u001b[32m    698\u001b[39m     \u001b[38;5;28mself\u001b[39m.negative_linestyles = \\\n\u001b[32m    699\u001b[39m         mpl.rcParams[\u001b[33m'\u001b[39m\u001b[33mcontour.negative_linestyle\u001b[39m\u001b[33m'\u001b[39m]\n\u001b[32m--> \u001b[39m\u001b[32m701\u001b[39m kwargs = \u001b[38;5;28;43mself\u001b[39;49m\u001b[43m.\u001b[49m\u001b[43m_process_args\u001b[49m\u001b[43m(\u001b[49m\u001b[43m*\u001b[49m\u001b[43margs\u001b[49m\u001b[43m,\u001b[49m\u001b[43m \u001b[49m\u001b[43m*\u001b[49m\u001b[43m*\u001b[49m\u001b[43mkwargs\u001b[49m\u001b[43m)\u001b[49m\n\u001b[32m    702\u001b[39m \u001b[38;5;28mself\u001b[39m._process_levels()\n\u001b[32m    704\u001b[39m \u001b[38;5;28mself\u001b[39m._extend_min = \u001b[38;5;28mself\u001b[39m.extend \u001b[38;5;129;01min\u001b[39;00m [\u001b[33m'\u001b[39m\u001b[33mmin\u001b[39m\u001b[33m'\u001b[39m, \u001b[33m'\u001b[39m\u001b[33mboth\u001b[39m\u001b[33m'\u001b[39m]\n",
      "\u001b[36mFile \u001b[39m\u001b[32m~/phd/personal/phd/lib/python3.12/site-packages/matplotlib/contour.py:1319\u001b[39m, in \u001b[36mQuadContourSet._process_args\u001b[39m\u001b[34m(self, corner_mask, algorithm, *args, **kwargs)\u001b[39m\n\u001b[32m   1316\u001b[39m         corner_mask = mpl.rcParams[\u001b[33m'\u001b[39m\u001b[33mcontour.corner_mask\u001b[39m\u001b[33m'\u001b[39m]\n\u001b[32m   1317\u001b[39m \u001b[38;5;28mself\u001b[39m._corner_mask = corner_mask\n\u001b[32m-> \u001b[39m\u001b[32m1319\u001b[39m x, y, z = \u001b[38;5;28;43mself\u001b[39;49m\u001b[43m.\u001b[49m\u001b[43m_contour_args\u001b[49m\u001b[43m(\u001b[49m\u001b[43margs\u001b[49m\u001b[43m,\u001b[49m\u001b[43m \u001b[49m\u001b[43mkwargs\u001b[49m\u001b[43m)\u001b[49m\n\u001b[32m   1321\u001b[39m contour_generator = contourpy.contour_generator(\n\u001b[32m   1322\u001b[39m     x, y, z, name=\u001b[38;5;28mself\u001b[39m._algorithm, corner_mask=\u001b[38;5;28mself\u001b[39m._corner_mask,\n\u001b[32m   1323\u001b[39m     line_type=contourpy.LineType.SeparateCode,\n\u001b[32m   1324\u001b[39m     fill_type=contourpy.FillType.OuterCode,\n\u001b[32m   1325\u001b[39m     chunk_size=\u001b[38;5;28mself\u001b[39m.nchunk)\n\u001b[32m   1327\u001b[39m t = \u001b[38;5;28mself\u001b[39m.get_transform()\n",
      "\u001b[36mFile \u001b[39m\u001b[32m~/phd/personal/phd/lib/python3.12/site-packages/matplotlib/contour.py:1359\u001b[39m, in \u001b[36mQuadContourSet._contour_args\u001b[39m\u001b[34m(self, args, kwargs)\u001b[39m\n\u001b[32m   1357\u001b[39m \u001b[38;5;28;01melif\u001b[39;00m \u001b[32m2\u001b[39m < nargs <= \u001b[32m4\u001b[39m:\n\u001b[32m   1358\u001b[39m     x, y, z_orig, *args = args\n\u001b[32m-> \u001b[39m\u001b[32m1359\u001b[39m     x, y, z = \u001b[38;5;28;43mself\u001b[39;49m\u001b[43m.\u001b[49m\u001b[43m_check_xyz\u001b[49m\u001b[43m(\u001b[49m\u001b[43mx\u001b[49m\u001b[43m,\u001b[49m\u001b[43m \u001b[49m\u001b[43my\u001b[49m\u001b[43m,\u001b[49m\u001b[43m \u001b[49m\u001b[43mz_orig\u001b[49m\u001b[43m,\u001b[49m\u001b[43m \u001b[49m\u001b[43mkwargs\u001b[49m\u001b[43m)\u001b[49m\n\u001b[32m   1361\u001b[39m \u001b[38;5;28;01melse\u001b[39;00m:\n\u001b[32m   1362\u001b[39m     \u001b[38;5;28;01mraise\u001b[39;00m _api.nargs_error(fn, takes=\u001b[33m\"\u001b[39m\u001b[33mfrom 1 to 4\u001b[39m\u001b[33m\"\u001b[39m, given=nargs)\n",
      "\u001b[36mFile \u001b[39m\u001b[32m~/phd/personal/phd/lib/python3.12/site-packages/matplotlib/contour.py:1385\u001b[39m, in \u001b[36mQuadContourSet._check_xyz\u001b[39m\u001b[34m(self, x, y, z, kwargs)\u001b[39m\n\u001b[32m   1382\u001b[39m z = ma.asarray(z)\n\u001b[32m   1384\u001b[39m \u001b[38;5;28;01mif\u001b[39;00m z.ndim != \u001b[32m2\u001b[39m:\n\u001b[32m-> \u001b[39m\u001b[32m1385\u001b[39m     \u001b[38;5;28;01mraise\u001b[39;00m \u001b[38;5;167;01mTypeError\u001b[39;00m(\u001b[33mf\u001b[39m\u001b[33m\"\u001b[39m\u001b[33mInput z must be 2D, not \u001b[39m\u001b[38;5;132;01m{\u001b[39;00mz.ndim\u001b[38;5;132;01m}\u001b[39;00m\u001b[33mD\u001b[39m\u001b[33m\"\u001b[39m)\n\u001b[32m   1386\u001b[39m \u001b[38;5;28;01mif\u001b[39;00m z.shape[\u001b[32m0\u001b[39m] < \u001b[32m2\u001b[39m \u001b[38;5;129;01mor\u001b[39;00m z.shape[\u001b[32m1\u001b[39m] < \u001b[32m2\u001b[39m:\n\u001b[32m   1387\u001b[39m     \u001b[38;5;28;01mraise\u001b[39;00m \u001b[38;5;167;01mTypeError\u001b[39;00m(\u001b[33mf\u001b[39m\u001b[33m\"\u001b[39m\u001b[33mInput z must be at least a (2, 2) shaped array, \u001b[39m\u001b[33m\"\u001b[39m\n\u001b[32m   1388\u001b[39m                     \u001b[33mf\u001b[39m\u001b[33m\"\u001b[39m\u001b[33mbut has shape \u001b[39m\u001b[38;5;132;01m{\u001b[39;00mz.shape\u001b[38;5;132;01m}\u001b[39;00m\u001b[33m\"\u001b[39m)\n",
      "\u001b[31mTypeError\u001b[39m: Input z must be 2D, not 1D"
     ]
    },
    {
     "data": {
      "image/png": "[encoded data removed]",
      "text/plain": [
       "<Figure size 1200x800 with 1 Axes>"
      ]
     },
     "metadata": {},
     "output_type": "display_data"
    }
   ],
   "source": [
    "plt.figure(figsize=(12,8))\n",
    "contour = plt.contourf(eik_f,eik_M,eik_omega,levels = 30,norm = LogNorm())\n",
    "plt.colorbar(contour,label = 'Omega_eikonal[]')\n",
    "\n",
    "plt.yscale('log')\n",
    "\n",
    "plt.xlabel('Frequency (Hz)')\n",
    "plt.ylabel('Lens mass ($M_\\odot$)')\n",
    "pylab.grid(True, which=\"both\", ls=\"--\")\n",
    "plt.title('Lens Mass vs Frequency')"
   ]
  },
  {
   "cell_type": "code",
   "execution_count": 104,
   "id": "be11b88d",
   "metadata": {},
   "outputs": [
    {
     "data": {
      "text/plain": [
       "array([8.14745387e+00, 1.00445619e+02, 1.23834054e+03, 1.30035658e+00,\n",
       "       1.60314037e+01, 1.97642638e+02, 2.43663082e+03, 3.00399236e+04,\n",
       "       3.70346219e+05, 4.56580129e+06, 5.62893323e+07, 2.60068456e+00,\n",
       "       3.20624548e+01, 3.95280928e+02, 4.87320804e+03, 6.00791864e+04,\n",
       "       7.40684291e+05, 9.13150213e+06, 1.12577426e+08, 3.90101253e+00,\n",
       "       4.80935058e+01, 5.92919219e+02, 7.30978525e+03, 9.01184492e+04,\n",
       "       1.11102236e+06, 1.36972030e+07, 1.68865520e+08, 5.20134051e+00,\n",
       "       6.41245569e+01, 7.90557509e+02, 9.74636247e+03, 1.20157712e+05,\n",
       "       1.48136043e+06, 1.82629038e+07, 2.25153614e+08, 6.50166849e+00,\n",
       "       8.01556079e+01, 9.88195799e+02, 1.21829397e+04, 1.50196975e+05,\n",
       "       1.85169851e+06, 2.28286046e+07, 2.81441708e+08, 7.80199646e+00,\n",
       "       9.61866590e+01, 1.18583409e+03, 1.46195169e+04, 1.80236237e+05,\n",
       "       2.22203658e+06, 2.73943055e+07, 3.37729802e+08, 9.10232444e+00,\n",
       "       1.12217710e+02, 1.38347238e+03, 1.70560941e+04, 2.10275500e+05,\n",
       "       2.59237465e+06, 3.19600063e+07, 3.94017896e+08, 1.04026524e+01,\n",
       "       1.28248761e+02, 1.58111067e+03, 1.94926713e+04, 2.40314763e+05,\n",
       "       2.96271272e+06, 3.65257072e+07, 4.50305990e+08, 1.17029804e+01,\n",
       "       1.44279812e+02, 1.77874896e+03, 2.19292485e+04, 2.70354026e+05,\n",
       "       3.33305079e+06, 4.10914080e+07, 5.06594084e+08, 1.05473843e+00,\n",
       "       1.30033084e+01, 1.60310863e+02, 1.97638725e+03, 2.43658258e+04,\n",
       "       3.00393288e+05, 3.70338886e+06, 4.56571088e+07, 5.62882178e+08,\n",
       "       1.16021204e+00, 1.43036363e+01, 1.76341914e+02, 2.17402554e+03,\n",
       "       2.68024030e+04, 3.30432551e+05, 4.07372693e+06, 5.02228097e+07,\n",
       "       6.19170272e+08])"
      ]
     },
     "execution_count": 104,
     "metadata": {},
     "output_type": "execute_result"
    }
   ],
   "source": [
    "azb"
   ]
  },
  {
   "cell_type": "code",
   "execution_count": 92,
   "id": "08f06bc6",
   "metadata": {},
   "outputs": [
    {
     "data": {
      "image/png": "[encoded data removed]",
      "text/plain": [
       "<Figure size 640x480 with 1 Axes>"
      ]
     },
     "metadata": {},
     "output_type": "display_data"
    }
   ],
   "source": [
    "plt.plot(f_grid[2], M_grid[3], marker='o', color='k', linestyle='none')\n",
    "plt.show()"
   ]
  },
  {
   "cell_type": "code",
   "execution_count": 79,
   "id": "fa2e767c",
   "metadata": {},
   "outputs": [
    {
     "data": {
      "text/plain": [
       "np.float64(0.0006939611976120003)"
      ]
     },
     "execution_count": 79,
     "metadata": {},
     "output_type": "execute_result"
    }
   ],
   "source": [
    "omega_grid[1][1]"
   ]
  },
  {
   "cell_type": "code",
   "execution_count": 48,
   "id": "903c8ed6",
   "metadata": {},
   "outputs": [
    {
     "data": {
      "text/plain": [
       "np.float64(0.0)"
      ]
     },
     "execution_count": 48,
     "metadata": {},
     "output_type": "execute_result"
    }
   ],
   "source": [
    "mm"
   ]
  },
  {
   "cell_type": "code",
   "execution_count": 5,
   "id": "29c9c866",
   "metadata": {},
   "outputs": [],
   "source": [
    "from gwosc import datasets\n",
    "from gwosc.datasets import run_segment\n"
   ]
  },
  {
   "cell_type": "code",
   "execution_count": 68,
   "id": "6379709a",
   "metadata": {},
   "outputs": [
    {
     "name": "stdout",
     "output_type": "stream",
     "text": [
      "['O1', 'O2', 'O3GK', 'O3a', 'O3b', 'O4a', 'O4b3Disc', 'S5', 'S6']\n"
     ]
    }
   ],
   "source": [
    "catalogs = datasets.find_datasets(type='run')\n",
    "print (catalogs)"
   ]
  },
  {
   "cell_type": "code",
   "execution_count": 6,
   "id": "dfdfa050",
   "metadata": {},
   "outputs": [],
   "source": [
    "events = datasets.find_datasets(type='events')"
   ]
  },
  {
   "cell_type": "code",
   "execution_count": 90,
   "id": "b2d92715",
   "metadata": {},
   "outputs": [
    {
     "name": "stdout",
     "output_type": "stream",
     "text": [
      "['151008-v1', '151012.2-v1', '151116-v1', '161202-v1', '161217-v1', '170208-v1', '170219-v1', '170405-v1', '170412-v1', '170423-v1', '170616-v1', '170630-v1', '170705-v1', '170720-v1', '190924_232654-v1', '191118_212859-v1', '191223_014159-v1', '191225_215715-v1', '200114_020818-v1', '200121_031748-v1', '200201_203549-v1', '200214_224526-v1', '200214_224526-v2', '200219_201407-v1', '200311_103121-v1', 'GRB051103-v1', 'GW150914-v1', 'GW150914-v2', 'GW150914-v3', 'GW151012-v1', 'GW151012-v2', 'GW151012-v3', 'GW151226-v1', 'GW151226-v2', 'GW170104-v1', 'GW170104-v2', 'GW170608-v1', 'GW170608-v2', 'GW170608-v3', 'GW170729-v1', 'GW170809-v1', 'GW170814-v1', 'GW170814-v2', 'GW170814-v3', 'GW170817-v1', 'GW170817-v2', 'GW170817-v3', 'GW170818-v1', 'GW170823-v1', 'GW190403_051519-v1', 'GW190408_181802-v1', 'GW190408_181802-v2', 'GW190408_181802-v3', 'GW190412-v1', 'GW190412-v2', 'GW190412-v3', 'GW190412-v5', 'GW190412_053044-v4', 'GW190413_052954-v1', 'GW190413_052954-v2', 'GW190413_052954-v3', 'GW190413_134308-v1', 'GW190413_134308-v2', 'GW190413_134308-v3', 'GW190421_213856-v1', 'GW190421_213856-v2', 'GW190421_213856-v3', 'GW190424_180648-v1', 'GW190424_180648-v2', 'GW190425-v1', 'GW190425-v2', 'GW190425_081805-v3', 'GW190426_152155-v1', 'GW190426_152155-v2', 'GW190426_190642-v1', 'GW190503_185404-v1', 'GW190503_185404-v2', 'GW190503_185404-v3', 'GW190512_180714-v1', 'GW190512_180714-v2', 'GW190512_180714-v3', 'GW190513_205428-v1', 'GW190513_205428-v2', 'GW190513_205428-v3', 'GW190514_065416-v1', 'GW190514_065416-v2', 'GW190514_065416-v3', 'GW190517_055101-v1', 'GW190517_055101-v2', 'GW190517_055101-v3', 'GW190519_153544-v1', 'GW190519_153544-v2', 'GW190519_153544-v3', 'GW190521-v1', 'GW190521-v2', 'GW190521-v3', 'GW190521_030229-v4', 'GW190521_074359-v1', 'GW190521_074359-v2', 'GW190521_074359-v3', 'GW190527_092055-v1', 'GW190527_092055-v2', 'GW190527_092055-v3', 'GW190531_023648-v1', 'GW190602_175927-v1', 'GW190602_175927-v2', 'GW190602_175927-v3', 'GW190620_030421-v1', 'GW190620_030421-v2', 'GW190630_185205-v1', 'GW190630_185205-v2', 'GW190701_203306-v1', 'GW190701_203306-v2', 'GW190704_104834-v1', 'GW190706_222641-v1', 'GW190706_222641-v2', 'GW190706_222641-v3', 'GW190707_083226-v1', 'GW190707_093326-v1', 'GW190707_093326-v2', 'GW190707_093326-v3', 'GW190708_232457-v1', 'GW190708_232457-v2', 'GW190711_030756-v1', 'GW190718_160159-v1', 'GW190719_215514-v1', 'GW190719_215514-v2', 'GW190719_215514-v3', 'GW190720_000836-v1', 'GW190720_000836-v2', 'GW190720_000836-v3', 'GW190725_174728-v1', 'GW190725_174728-v2', 'GW190727_060333-v1', 'GW190727_060333-v2', 'GW190727_060333-v3', 'GW190728_064510-v1', 'GW190728_064510-v2', 'GW190728_064510-v3', 'GW190731_140936-v1', 'GW190731_140936-v2', 'GW190731_140936-v3', 'GW190803_022701-v1', 'GW190803_022701-v2', 'GW190803_022701-v3', 'GW190805_211137-v1', 'GW190805_211137-v2', 'GW190814-v1', 'GW190814-v2', 'GW190814_192009-v1', 'GW190814_211039-v3', 'GW190818_232544-v1', 'GW190821_124821-v1', 'GW190828_063405-v1', 'GW190828_063405-v2', 'GW190828_063405-v3', 'GW190828_065509-v1', 'GW190828_065509-v2', 'GW190828_065509-v3', 'GW190906_054335-v1', 'GW190909_114149-v1', 'GW190909_114149-v2', 'GW190909_114149-v3', 'GW190910_012619-v1', 'GW190910_112807-v1', 'GW190910_112807-v2', 'GW190915_235702-v1', 'GW190915_235702-v2', 'GW190915_235702-v3', 'GW190916_200658-v1', 'GW190916_200658-v2', 'GW190917_114630-v1', 'GW190920_113516-v1', 'GW190924_021846-v1', 'GW190924_021846-v2', 'GW190925_232845-v1', 'GW190926_050336-v1', 'GW190926_050336-v2', 'GW190929_012149-v1', 'GW190929_012149-v2', 'GW190929_012149-v3', 'GW190930_133541-v1', 'GW190930_133541-v2', 'GW190930_133541-v3', 'GW191103_012549-v1', 'GW191105_143521-v1', 'GW191109_010717-v1', 'GW191113_071753-v1', 'GW191126_115259-v1', 'GW191127_050227-v1', 'GW191129_134029-v1', 'GW191204_110529-v1', 'GW191204_171526-v1', 'GW191215_223052-v1', 'GW191216_213338-v1', 'GW191219_163120-v1', 'GW191222_033537-v1', 'GW191230_180458-v1', 'GW200105-v1', 'GW200105_162426-v2', 'GW200112_155838-v1', 'GW200115-v1', 'GW200115_042309-v2', 'GW200128_022011-v1', 'GW200129_065458-v1', 'GW200202_154313-v1', 'GW200208_130117-v1', 'GW200208_222617-v1', 'GW200209_085452-v1', 'GW200210_092254-v1', 'GW200216_220804-v1', 'GW200219_094415-v1', 'GW200220_061928-v1', 'GW200220_124850-v1', 'GW200224_222234-v1', 'GW200225_060421-v1', 'GW200302_015811-v1', 'GW200306_093714-v1', 'GW200308_173609-v1', 'GW200311_115853-v1', 'GW200316_215756-v1', 'GW200322_091133-v1', 'GW230518_125908-v1', 'GW230529_181500-v1', 'GW230529_181500-v2', 'GW230531_141100-v1', 'GW230601_224134-v1', 'GW230603_174756-v1', 'GW230605_065343-v1', 'GW230606_004305-v1', 'GW230606_024545-v1', 'GW230608_205047-v1', 'GW230609_010824-v1', 'GW230609_064958-v1', 'GW230615_160825-v1', 'GW230618_102550-v1', 'GW230624_113103-v1', 'GW230624_214944-v1', 'GW230625_211655-v1', 'GW230627_015337-v1', 'GW230628_231200-v1', 'GW230630_070659-v1', 'GW230630_125806-v1', 'GW230630_234532-v1', 'GW230702_162025-v1', 'GW230702_185453-v1', 'GW230704_021211-v1', 'GW230704_212616-v1', 'GW230706_104333-v1', 'GW230707_124047-v1', 'GW230708_053705-v1', 'GW230708_071859-v1', 'GW230708_230935-v1', 'GW230709_063445-v1', 'GW230709_122727-v1', 'GW230712_090405-v1', 'GW230717_102139-v1', 'GW230721_222634-v1', 'GW230723_084820-v1', 'GW230723_101834-v1', 'GW230726_002940-v1', 'GW230728_083628-v1', 'GW230729_082317-v1', 'GW230731_215307-v1', 'GW230803_033412-v1', 'GW230805_034249-v1', 'GW230806_204041-v1', 'GW230807_205045-v1', 'GW230811_032116-v1', 'GW230814_061920-v1', 'GW230814_230901-v1', 'GW230814_230901-v2', 'GW230817_212349-v1', 'GW230819_171910-v1', 'GW230820_212515-v1', 'GW230822_230337-v1', 'GW230823_142524-v1', 'GW230824_033047-v1', 'GW230824_135331-v1', 'GW230825_041334-v1', 'GW230830_064744-v1', 'GW230831_015414-v1', 'GW230831_134621-v1', 'GW230902_122814-v1', 'GW230902_172430-v1', 'GW230902_224555-v1', 'GW230904_051013-v1', 'GW230904_152545-v1', 'GW230911_195324-v1', 'GW230914_111401-v1', 'GW230919_215712-v1', 'GW230920_064709-v1', 'GW230920_071124-v1', 'GW230922_020344-v1', 'GW230922_040658-v1', 'GW230924_124453-v1', 'GW230925_143957-v1', 'GW230927_043729-v1', 'GW230927_153832-v1', 'GW230928_215827-v1', 'GW230930_110730-v1', 'GW231001_140220-v1', 'GW231002_143916-v1', 'GW231004_232346-v1', 'GW231005_021030-v1', 'GW231005_091549-v1', 'GW231005_144455-v1', 'GW231008_142521-v1', 'GW231013_135504-v1', 'GW231014_040532-v1', 'GW231018_233037-v1', 'GW231020_142947-v1', 'GW231026_130704-v1', 'GW231028_153006-v1', 'GW231029_111508-v1', 'GW231102_052214-v1', 'GW231102_071736-v1', 'GW231102_232433-v1', 'GW231104_133418-v1', 'GW231108_125142-v1', 'GW231110_040320-v1', 'GW231113_122623-v1', 'GW231113_150041-v1', 'GW231113_200417-v1', 'GW231114_043211-v1', 'GW231118_005626-v1', 'GW231118_071402-v1', 'GW231118_090602-v1', 'GW231119_075248-v1', 'GW231120_022103-v1', 'GW231123_135430-v1', 'GW231123_135430-v2', 'GW231126_010928-v1', 'GW231127_165300-v1', 'GW231129_081745-v1', 'GW231204_090648-v1', 'GW231206_010629-v1', 'GW231206_233134-v1', 'GW231206_233901-v1', 'GW231213_111417-v1', 'GW231220_173406-v1', 'GW231221_135041-v1', 'GW231223_032836-v1', 'GW231223_075055-v1', 'GW231223_202619-v1', 'GW231224_024321-v1', 'GW231226_101520-v1', 'GW231230_170116-v1', 'GW231231_120147-v1', 'GW231231_154016-v1', 'GW240104_164932-v1', 'GW240105_151143-v1', 'GW240107_013215-v1', 'GW240109_050431-v1', 'GW250114_082203-v1', 'blind_injection-v1']\n"
     ]
    }
   ],
   "source": [
    "print(events)"
   ]
  },
  {
   "cell_type": "code",
   "execution_count": 91,
   "id": "76c39f4e",
   "metadata": {},
   "outputs": [
    {
     "name": "stdout",
     "output_type": "stream",
     "text": [
      "356\n"
     ]
    }
   ],
   "source": [
    "print (len(events))"
   ]
  },
  {
   "cell_type": "code",
   "execution_count": 7,
   "id": "258a894d",
   "metadata": {},
   "outputs": [],
   "source": [
    "detected_gw = []\n",
    "for e in events:\n",
    "    if (len(e) <=11) & (e[0] == 'G'):\n",
    "        detected_gw.append(e)"
   ]
  },
  {
   "cell_type": "code",
   "execution_count": 96,
   "id": "b8acf789",
   "metadata": {},
   "outputs": [
    {
     "name": "stdout",
     "output_type": "stream",
     "text": [
      "36\n"
     ]
    }
   ],
   "source": [
    "print(len(detected_gw))"
   ]
  },
  {
   "cell_type": "code",
   "execution_count": 102,
   "id": "25fcb043",
   "metadata": {},
   "outputs": [
    {
     "name": "stdout",
     "output_type": "stream",
     "text": [
      "GW150914-v1\n"
     ]
    }
   ],
   "source": [
    "print(detected_gw[0])"
   ]
  },
  {
   "cell_type": "code",
   "execution_count": 8,
   "id": "0eb4dff3",
   "metadata": {},
   "outputs": [],
   "source": [
    "from gwpy.timeseries import TimeSeries as gwpy_ts\n",
    "data = gwpy_ts.fetch_open_data('H1',\n",
    "                                  datasets.event_gps(detected_gw[0]),\n",
    "                                  datasets.event_gps(detected_gw[0])+16\n",
    ")"
   ]
  },
  {
   "cell_type": "code",
   "execution_count": null,
   "id": "5fd8576d",
   "metadata": {},
   "outputs": [
    {
     "data": {
      "text/latex": [
       "$[-2.6407692 \\times 10^{-19},~-2.9592919 \\times 10^{-19},~-2.9436286 \\times 10^{-19},~\\dots,~-6.4452615 \\times 10^{-21},~-6.360269 \\times 10^{-21},~-3.7491273 \\times 10^{-20}] \\; \\mathrm{}$"
      ],
      "text/plain": [
       "<TimeSeries([-2.64076922e-19, -2.95929189e-19, -2.94362862e-19,\n",
       "             ..., -6.44526154e-21, -6.36026905e-21,\n",
       "             -3.74912730e-20]\n",
       "            unit=Unit(dimensionless),\n",
       "            t0=<Quantity 1.12625946e+09 s>,\n",
       "            dt=<Quantity 0.00024414 s>,\n",
       "            name='Strain',\n",
       "            channel=None)>"
      ]
     },
     "execution_count": 9,
     "metadata": {},
     "output_type": "execute_result"
    }
   ],
   "source": [
    "data."
   ]
  }
 ],
 "metadata": {
  "kernelspec": {
   "display_name": "phd",
   "language": "python",
   "name": "python3"
  },
  "language_info": {
   "codemirror_mode": {
    "name": "ipython",
    "version": 3
   },
   "file_extension": ".py",
   "mimetype": "text/x-python",
   "name": "python",
   "nbconvert_exporter": "python",
   "pygments_lexer": "ipython3",
   "version": "3.12.3"
  }
 },
 "nbformat": 4,
 "nbformat_minor": 5
}
